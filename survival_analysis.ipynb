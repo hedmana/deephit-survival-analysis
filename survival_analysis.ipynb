{
 "cells": [
  {
   "cell_type": "markdown",
   "id": "8f84fd32",
   "metadata": {},
   "source": [
    "# DeepHit: A Deep Learning Approach to Survival Analysis with Competing Risks"
   ]
  },
  {
   "cell_type": "code",
   "execution_count": 5,
   "id": "804efce0",
   "metadata": {},
   "outputs": [
    {
     "name": "stderr",
     "output_type": "stream",
     "text": [
      "/Users/hedmana/Projects/personal/deephit-survival-analysis/venv/lib/python3.12/site-packages/tqdm/auto.py:21: TqdmWarning: IProgress not found. Please update jupyter and ipywidgets. See https://ipywidgets.readthedocs.io/en/stable/user_install.html\n",
      "  from .autonotebook import tqdm as notebook_tqdm\n"
     ]
    }
   ],
   "source": [
    "import kagglehub\n",
    "\n",
    "from src.model import DeepHit\n",
    "from src.tools import tools_test"
   ]
  },
  {
   "cell_type": "code",
   "execution_count": 4,
   "id": "4e01a5d6",
   "metadata": {},
   "outputs": [
    {
     "name": "stdout",
     "output_type": "stream",
     "text": [
      "DeepHit Model for Survival Analysis with Competing Risks\n",
      "Tools are working properly.\n"
     ]
    }
   ],
   "source": [
    "print(DeepHit())\n",
    "print(tools_test())"
   ]
  },
  {
   "cell_type": "code",
   "execution_count": 7,
   "id": "5b36d7b2",
   "metadata": {},
   "outputs": [
    {
     "name": "stdout",
     "output_type": "stream",
     "text": [
      "Downloading from https://www.kaggle.com/api/v1/datasets/download/raghadalharbi/breast-cancer-gene-expression-profiles-metabric?dataset_version_number=1...\n"
     ]
    },
    {
     "name": "stderr",
     "output_type": "stream",
     "text": [
      "100%|██████████| 2.72M/2.72M [00:00<00:00, 4.10MB/s]"
     ]
    },
    {
     "name": "stdout",
     "output_type": "stream",
     "text": [
      "Extracting files...\n",
      "Path to dataset files: /Users/hedmana/.cache/kagglehub/datasets/raghadalharbi/breast-cancer-gene-expression-profiles-metabric/versions/1\n"
     ]
    },
    {
     "name": "stderr",
     "output_type": "stream",
     "text": [
      "\n"
     ]
    }
   ],
   "source": [
    "# Download data from kaggle\n",
    "path = kagglehub.dataset_download(\"raghadalharbi/breast-cancer-gene-expression-profiles-metabric\")\n",
    "\n",
    "print(\"Path to dataset files:\", path)"
   ]
  }
 ],
 "metadata": {
  "kernelspec": {
   "display_name": "venv (3.12.12)",
   "language": "python",
   "name": "python3"
  },
  "language_info": {
   "codemirror_mode": {
    "name": "ipython",
    "version": 3
   },
   "file_extension": ".py",
   "mimetype": "text/x-python",
   "name": "python",
   "nbconvert_exporter": "python",
   "pygments_lexer": "ipython3",
   "version": "3.12.12"
  }
 },
 "nbformat": 4,
 "nbformat_minor": 5
}
